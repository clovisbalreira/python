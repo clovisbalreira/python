{
 "cells": [
  {
   "cell_type": "markdown",
   "id": "186f1305",
   "metadata": {},
   "source": [
    "# Projeto 1 - Backtest modelo de investimento Magic Formula.\n",
    "\n",
    "\n",
    "### Desafio:\n",
    "\n",
    "* Testar se a regra de investimento da fórmula mágica, do Joel Grenblatt, funcionou no Brasil nos últimos anos.\n",
    "\n",
    "\n",
    "### Passo a passo:\n",
    "\n",
    "   **Passo 1** - Importar os módulos e bibliotecas.\n",
    "   \n",
    "   **Passo 2** - Baixar os dados disponibilizados.\n",
    "   \n",
    "   **Passo 3** - Pegar as datas que iremos balancear a carteira. \n",
    "   \n",
    "   **Passo 4** - Filtrar  a liquidez.\n",
    "   \n",
    "   **Passo 5** - Cria o ranking dos indicadores.\n",
    "   \n",
    "   **Passo 6** - Cria as carteiras. \n",
    "   \n",
    "   **Passo 7** - Calcula a rentabilidade por carteira.\n",
    "   \n",
    "   **Passo 8** - Calcula a rentabilidade do modelo.\n",
    "\n",
    "   **Passo 9** - Calcula a rentabilidade do ibovespa no mesmo período.\n",
    "\n",
    "   **Passo 10** - Analisa os resultados.\n",
    "   \n",
    "-------------------"
   ]
  },
  {
   "cell_type": "markdown",
   "id": "dcbd7acc",
   "metadata": {},
   "source": [
    "# Passo 1: Importando os módulos necessários"
   ]
  },
  {
   "cell_type": "code",
   "execution_count": null,
   "id": "c41e1c18",
   "metadata": {},
   "outputs": [],
   "source": [
    "import pandas as pd\n",
    "import quantstats as qs "
   ]
  },
  {
   "cell_type": "markdown",
   "id": "6e663a19",
   "metadata": {},
   "source": [
    "# Passo 2: Baixar os dados dispobinilizados."
   ]
  },
  {
   "cell_type": "code",
   "execution_count": null,
   "id": "2714cc69",
   "metadata": {
    "scrolled": false
   },
   "outputs": [],
   "source": [
    "dados_empresas = pd.read_csv(\"dados_empresas.csv\")"
   ]
  },
  {
   "cell_type": "markdown",
   "id": "0ae4f420",
   "metadata": {},
   "source": [
    "# Passo 3: Filtrar liquidez."
   ]
  },
  {
   "cell_type": "code",
   "execution_count": null,
   "id": "15f8181a",
   "metadata": {},
   "outputs": [],
   "source": [
    "dados_empresas = dados_empresas[dados_empresas['volume_negociado'] > 1000000]"
   ]
  },
  {
   "attachments": {},
   "cell_type": "markdown",
   "id": "1fb655d4",
   "metadata": {},
   "source": [
    "# Passo 4: Calcula os retornos mensais das empresas."
   ]
  },
  {
   "cell_type": "code",
   "execution_count": null,
   "id": "78db61e0",
   "metadata": {},
   "outputs": [],
   "source": [
    "dados_empresas['retorno'] = dados_empresas.groupby('ticker')['preco_fechamento_ajustado'].pct_change()\n",
    "dados_empresas['retorno'] = dados_empresas.groupby('ticker')['retorno'].shift(-1) "
   ]
  },
  {
   "cell_type": "markdown",
   "id": "b0de9a3f",
   "metadata": {},
   "source": [
    "# Passo 5: Cria o ranking dos indicadores."
   ]
  },
  {
   "cell_type": "code",
   "execution_count": null,
   "id": "8054b285",
   "metadata": {},
   "outputs": [],
   "source": [
    "dados_empresas['ranking_ev_ebit'] = dados_empresas.groupby('data')['ebit_ev'].rank(ascending = False)\n",
    "dados_empresas['ranking_roic'] = dados_empresas.groupby('data')['roic'].rank(ascending = False)\n",
    "\n",
    "dados_empresas['ranking_final'] = dados_empresas['ranking_ev_ebit'] + dados_empresas['ranking_roic']\n",
    "dados_empresas['ranking_final'] = dados_empresas.groupby('data')['ranking_final'].rank()"
   ]
  },
  {
   "cell_type": "code",
   "execution_count": null,
   "id": "ad7d61ba",
   "metadata": {
    "scrolled": true
   },
   "outputs": [],
   "source": [
    "dados_empresas[dados_empresas['data'] == '2016-02-29'].sort_values('ranking_final').head(20)"
   ]
  },
  {
   "cell_type": "markdown",
   "id": "204910a5",
   "metadata": {},
   "source": [
    "# Passo 6: Cria as carteiras. "
   ]
  },
  {
   "cell_type": "code",
   "execution_count": null,
   "id": "fc0a4dc4",
   "metadata": {},
   "outputs": [],
   "source": [
    "dados_empresas = dados_empresas[dados_empresas['ranking_final'] <= 10]\n",
    "#dados_empresas[dados_empresas['data'] == '2016-01-31']"
   ]
  },
  {
   "cell_type": "markdown",
   "id": "36aff50a",
   "metadata": {},
   "source": [
    "# Passo 7: Calcula a rentabilidade por carteira."
   ]
  },
  {
   "cell_type": "code",
   "execution_count": null,
   "id": "c4c0348d",
   "metadata": {},
   "outputs": [],
   "source": [
    "rentabilidade_por_carteiras = dados_empresas.groupby('data')['retorno'].mean()\n",
    "rentabilidade_por_carteiras = rentabilidade_por_carteiras.to_frame()"
   ]
  },
  {
   "cell_type": "markdown",
   "id": "df8a767a",
   "metadata": {},
   "source": [
    "# Passo 8: Calcula a rentabilidade do modelo."
   ]
  },
  {
   "cell_type": "code",
   "execution_count": null,
   "id": "bc2b3a35",
   "metadata": {},
   "outputs": [],
   "source": [
    "rentabilidade_por_carteiras['modelo'] = (rentabilidade_por_carteiras['retorno'] + 1).cumprod() - 1\n",
    "rentabilidade_por_carteiras = rentabilidade_por_carteiras.shift(1)\n",
    "rentabilidade_por_carteiras = rentabilidade_por_carteiras.dropna()"
   ]
  },
  {
   "cell_type": "markdown",
   "id": "f7b31fc2",
   "metadata": {},
   "source": [
    "# Passo 9: Calcula a rentabilidade do ibovespa no mesmo período."
   ]
  },
  {
   "cell_type": "code",
   "execution_count": null,
   "id": "71c1c8c8",
   "metadata": {
    "scrolled": true
   },
   "outputs": [],
   "source": [
    "ibov = pd.read_csv('ibov.csv')\n",
    "\n",
    "retornos_ibov = ibov['fechamento'].pct_change().dropna()\n",
    "retorno_acum_ibov = (1 + retornos_ibov).cumprod() - 1\n",
    "rentabilidade_por_carteiras['ibovespa'] = retorno_acum_ibov.values\n",
    "rentabilidade_por_carteiras = rentabilidade_por_carteiras.drop('retorno', axis = 1)"
   ]
  },
  {
   "cell_type": "markdown",
   "id": "99ecae42",
   "metadata": {},
   "source": [
    "# Passo 10: Analisa os resultados. "
   ]
  },
  {
   "cell_type": "code",
   "execution_count": null,
   "id": "05f753a8",
   "metadata": {
    "scrolled": false
   },
   "outputs": [],
   "source": [
    "qs.extend_pandas()\n",
    "rentabilidade_por_carteiras.index = pd.to_datetime(rentabilidade_por_carteiras.index)\n",
    "\n",
    "rentabilidade_por_carteiras['modelo'].plot_monthly_heatmap()\n",
    "rentabilidade_por_carteiras['ibovespa'].plot_monthly_heatmap()"
   ]
  },
  {
   "cell_type": "code",
   "execution_count": null,
   "id": "7f9b4f7f",
   "metadata": {},
   "outputs": [],
   "source": [
    "rentabilidade_por_carteiras.plot()"
   ]
  },
  {
   "cell_type": "code",
   "execution_count": null,
   "id": "d2a985da",
   "metadata": {
    "scrolled": false
   },
   "outputs": [],
   "source": [
    "rentabilidade_ao_ano = (1 + rentabilidade_por_carteiras.loc['2023-06-30', 'modelo']) ** (1/7.5) - 1\n",
    "\n",
    "rentabilidade_ao_ano"
   ]
  },
  {
   "cell_type": "code",
   "execution_count": null,
   "id": "61dab0ed",
   "metadata": {},
   "outputs": [],
   "source": []
  },
  {
   "cell_type": "code",
   "execution_count": null,
   "id": "052741f5",
   "metadata": {},
   "outputs": [],
   "source": []
  },
  {
   "cell_type": "code",
   "execution_count": null,
   "id": "9259883a",
   "metadata": {},
   "outputs": [],
   "source": []
  }
 ],
 "metadata": {
  "kernelspec": {
   "display_name": "Python 3 (ipykernel)",
   "language": "python",
   "name": "python3"
  },
  "language_info": {
   "codemirror_mode": {
    "name": "ipython",
    "version": 3
   },
   "file_extension": ".py",
   "mimetype": "text/x-python",
   "name": "python",
   "nbconvert_exporter": "python",
   "pygments_lexer": "ipython3",
   "version": "3.11.3"
  }
 },
 "nbformat": 4,
 "nbformat_minor": 5
}
