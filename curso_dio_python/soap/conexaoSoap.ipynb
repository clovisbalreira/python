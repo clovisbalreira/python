{
 "cells": [
  {
   "cell_type": "code",
   "execution_count": 4,
   "id": "fb7f2adf",
   "metadata": {},
   "outputs": [
    {
     "name": "stdout",
     "output_type": "stream",
     "text": [
      "Your input parameters are oi and tchau\n"
     ]
    }
   ],
   "source": [
    "from zeep import Client\n",
    "client = Client('http://www.soapclient.com/xml/soapresponder.wsdl')\n",
    "result = client.service.Method1(bstrParam1='oi',bstrParam2='tchau')\n",
    "print(result)\n"
   ]
  },
  {
   "cell_type": "code",
   "execution_count": null,
   "id": "aa571fb2",
   "metadata": {},
   "outputs": [],
   "source": []
  }
 ],
 "metadata": {
  "kernelspec": {
   "display_name": "Python 3 (ipykernel)",
   "language": "python",
   "name": "python3"
  },
  "language_info": {
   "codemirror_mode": {
    "name": "ipython",
    "version": 3
   },
   "file_extension": ".py",
   "mimetype": "text/x-python",
   "name": "python",
   "nbconvert_exporter": "python",
   "pygments_lexer": "ipython3",
   "version": "3.8.10"
  }
 },
 "nbformat": 4,
 "nbformat_minor": 5
}
