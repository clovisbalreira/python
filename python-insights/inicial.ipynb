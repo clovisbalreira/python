{
 "cells": [
  {
   "cell_type": "markdown",
   "metadata": {},
   "source": [
    "# Python Insights - Analisando Dados com Python\n",
    "\n",
    "### Case - Cancelamento de Clientes\n",
    "\n",
    "Você foi contratado por uma empresa com mais de 800 mil clientes para um projeto de Dados. Recentemente a empresa percebeu que da sua base total de clientes, a maioria são clientes inativos, ou seja, que já cancelaram o serviço.\n",
    "\n",
    "Precisando melhorar seus resultados ela quer conseguir entender os principais motivos desses cancelamentos e quais as ações mais eficientes para reduzir esse número.\n",
    "\n",
    "Base de dados e arquivos: https://drive.google.com/drive/folders/1uDesZePdkhiraJmiyeZ-w5tfc8XsNYFZ?usp=drive_link"
   ]
  },
  {
   "cell_type": "code",
   "execution_count": 5,
   "metadata": {},
   "outputs": [
    {
     "ename": "ModuleNotFoundError",
     "evalue": "No module named 'pandas'",
     "output_type": "error",
     "traceback": [
      "\u001b[0;31m---------------------------------------------------------------------------\u001b[0m",
      "\u001b[0;31mModuleNotFoundError\u001b[0m                       Traceback (most recent call last)",
      "Cell \u001b[0;32mIn[5], line 3\u001b[0m\n\u001b[1;32m      1\u001b[0m \u001b[39m#passo a passo do seu projeto\u001b[39;00m\n\u001b[1;32m      2\u001b[0m \u001b[39m#passo 1: importar a base de dados\u001b[39;00m\n\u001b[0;32m----> 3\u001b[0m \u001b[39mimport\u001b[39;00m \u001b[39mpandas\u001b[39;00m\n\u001b[1;32m      4\u001b[0m \u001b[39m#ler a base de dados\u001b[39;00m\n\u001b[1;32m      5\u001b[0m tabela \u001b[39m=\u001b[39m pandas\u001b[39m.\u001b[39mread_csv(\u001b[39m\"\u001b[39m\u001b[39m./csv/cancelamentos.csv\u001b[39m\u001b[39m\"\u001b[39m)\n",
      "\u001b[0;31mModuleNotFoundError\u001b[0m: No module named 'pandas'"
     ]
    }
   ],
   "source": [
    "#passo a passo do seu projeto\n",
    "#passo 1: importar a base de dados\n",
    "import pandas\n",
    "#ler a base de dados\n",
    "tabela = pandas.read_csv(\"./csv/cancelamentos.csv\")"
   ]
  },
  {
   "cell_type": "code",
   "execution_count": null,
   "metadata": {},
   "outputs": [],
   "source": [
    "#passo 2: visualizar a base de dados\n",
    "#mostrar dados\n",
    "#display(tabela) #arquivos ipynd\n",
    "#print(tabela)"
   ]
  },
  {
   "cell_type": "code",
   "execution_count": null,
   "metadata": {},
   "outputs": [],
   "source": [
    "\n",
    "#passo 3: tratamento de erros ( resolver as cagados da base de dados)\n",
    "#informações da base de dados\n",
    "#display(tabela.info())\n",
    "#deleta valores vazios\n",
    "tabela = tabela.dropna()\n",
    "#display(tabela)\n",
    "#informações que não de ajudam de atrabalham\n",
    "#deletar colunas e linhas linha = axis=0 coluna axis=1\n",
    "tabela = tabela.drop(\"CustomerID\", axis=1)\n",
    "#display(tabela)"
   ]
  },
  {
   "cell_type": "code",
   "execution_count": null,
   "metadata": {},
   "outputs": [
    {
     "data": {
      "text/plain": [
       "cancelou\n",
       "0.0    381666\n",
       "1.0    325788\n",
       "Name: count, dtype: int64"
      ]
     },
     "metadata": {},
     "output_type": "display_data"
    }
   ],
   "source": [
    "#passo 4: Análise inicial dos dados (entender como estão os cancelamentos)\n",
    "#escolher a coluna para visualiza\n",
    "#display(tabela[\"cancelou\"])\n",
    "#total\n",
    "#display(tabela[\"duracao_contrato\"].value_counts())\n",
    "#percentual\n",
    "#display(tabela[\"duracao_contrato\"].value_counts(normalize=True).map(\"{:.1%}\".format))\n",
    "#agrupar count = contar sum = somar mean = media\n",
    "#display(tabela.groupby(\"duracao_contrato\").count())\n",
    "#display(tabela.groupby(\"duracao_contrato\").sum())\n",
    "#display(tabela.groupby(\"duracao_contrato\").mean())\n",
    "display(tabela[\"cancelou\"].value_counts())\n",
    "tabela = tabela[tabela[\"duracao_contrato\"]!= \"Monthly\"]\n",
    "#display(tabela[\"cancelou\"].value_counts())\n",
    "tabela = tabela[tabela[\"ligacoes_callcenter\"]<= 5]\n",
    "#display(tabela[\"cancelou\"].value_counts())\n",
    "tabela = tabela[tabela[\"dias_atraso\"]<= 20]\n",
    "display(tabela[\"cancelou\"].value_counts())\n"
   ]
  },
  {
   "cell_type": "code",
   "execution_count": null,
   "metadata": {},
   "outputs": [
    {
     "data": {
      "text/plain": [
       "' import plotly.express as px\\n\\nfor coluna in tabela.columns:\\n    grafico = px.histogram(tabela, x=coluna, color=\"cancelou\")\\n    grafico.show() '"
      ]
     },
     "execution_count": 4,
     "metadata": {},
     "output_type": "execute_result"
    }
   ],
   "source": [
    "#passo 5: Análise profunda da base de dados (encontrando a causa dos cancelamentos)\n",
    "\"\"\" import plotly.express as px\n",
    "\n",
    "for coluna in tabela.columns:\n",
    "    grafico = px.histogram(tabela, x=coluna, color=\"cancelou\")\n",
    "    grafico.show() \"\"\""
   ]
  }
 ],
 "metadata": {
  "kernelspec": {
   "display_name": "base",
   "language": "python",
   "name": "python3"
  },
  "language_info": {
   "codemirror_mode": {
    "name": "ipython",
    "version": 3
   },
   "file_extension": ".py",
   "mimetype": "text/x-python",
   "name": "python",
   "nbconvert_exporter": "python",
   "pygments_lexer": "ipython3",
   "version": "3.10.6"
  },
  "orig_nbformat": 4
 },
 "nbformat": 4,
 "nbformat_minor": 2
}
